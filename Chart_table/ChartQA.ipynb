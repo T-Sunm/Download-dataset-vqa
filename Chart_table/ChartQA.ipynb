{
 "cells": [
  {
   "cell_type": "code",
   "execution_count": null,
   "metadata": {},
   "outputs": [],
   "source": [
    "from datasets import load_dataset\n",
    "\n",
    "# 1) Load dataset, chỉ định cache_dir để dữ liệu tải xuống nằm trong /mnt/VLAI_data\n",
    "ds = load_dataset(\"HuggingFaceM4/ChartQA\", cache_dir=\"/home/minhtq/workspace/Download-dataset-vqa/chartqa\")"
   ]
  },
  {
   "cell_type": "code",
   "execution_count": null,
   "metadata": {},
   "outputs": [],
   "source": [
    "import os\n",
    "import matplotlib.pyplot as plt\n",
    "\n",
    "# Lặp qua một số samples và lưu ảnh ra file\n",
    "for split in ds.keys():\n",
    "    for i, sample in enumerate(ds[split]):\n",
    "        img = sample['image']\n",
    "        # Vẽ ảnh\n",
    "        fig, ax = plt.subplots(figsize=(4, 4))\n",
    "        ax.imshow(img)\n",
    "        ax.axis('off')\n",
    "\n",
    "        # Dừng sau vài ảnh mẫu\n",
    "        if i >= 5:\n",
    "            break\n"
   ]
  },
  {
   "cell_type": "code",
   "execution_count": null,
   "metadata": {},
   "outputs": [],
   "source": [
    "import os\n",
    "import json\n",
    "\n",
    "# Thư mục lưu dữ liệu\n",
    "FOLDER_PATH = \"chartqa/data\"\n",
    "os.makedirs(FOLDER_PATH, exist_ok=True)\n",
    "\n",
    "for split in ds.keys():\n",
    "    print(f\"Processing '{split}' split...\")\n",
    "\n",
    "    # Thư mục con cho từng split\n",
    "    split_dir = os.path.join(FOLDER_PATH, split)\n",
    "    os.makedirs(split_dir, exist_ok=True)\n",
    "\n",
    "    data_for_json = []\n",
    "    for i, sample in enumerate(ds[split]):\n",
    "        # Lấy ảnh và lưu file\n",
    "        img = sample[\"image\"]\n",
    "        image_filename = f\"{i}.png\"\n",
    "        out_img_path = os.path.join(split_dir, image_filename)\n",
    "        img.save(out_img_path)\n",
    "\n",
    "        # Tạo entry cho JSON\n",
    "        json_entry = {\n",
    "            \"image_id\": image_filename,\n",
    "            \"query\": sample[\"query\"],\n",
    "            \"label\": sample[\"label\"],\n",
    "            \"human_or_machine\": sample[\"human_or_machine\"]\n",
    "        }\n",
    "        data_for_json.append(json_entry)\n",
    "\n",
    "        # Giả sử chỉ xử lý 5 ảnh mẫu cho demo\n",
    "        if i >= 5:\n",
    "            break\n",
    "\n",
    "    # Lưu JSON cho split hiện tại\n",
    "    json_output_path = os.path.join(FOLDER_PATH, f\"{split}.json\")\n",
    "    with open(json_output_path, \"w\", encoding=\"utf-8\") as f:\n",
    "        json.dump(data_for_json, f, indent=4, ensure_ascii=False)\n",
    "\n",
    "    print(f\"Finished '{split}'. Images → {split_dir}, JSON → {json_output_path}\\n\")\n"
   ]
  },
  {
   "cell_type": "code",
   "execution_count": null,
   "metadata": {},
   "outputs": [],
   "source": [
    "import os\n",
    "import shutil\n",
    "\n",
    "# 1. Định nghĩa đường dẫn nguồn và đích\n",
    "SOURCE_DIR = \"/home/minhtq/workspace/Download-dataset-vqa/chartqa/data\"\n",
    "DEST_DIR   = \"/mnt/VLAI_data/chartqa\"\n",
    "\n",
    "# 2. Tạo thư mục đích nếu chưa tồn tại\n",
    "os.makedirs(DEST_DIR, exist_ok=True)\n",
    "\n",
    "# 3. Copy toàn bộ nội dung\n",
    "for item in os.listdir(SOURCE_DIR):\n",
    "    src_path = os.path.join(SOURCE_DIR, item)\n",
    "    dst_path = os.path.join(DEST_DIR, item)\n",
    "\n",
    "    if os.path.isdir(src_path):\n",
    "        # Copy nguyên folder (merge nếu đã tồn tại)\n",
    "        shutil.copytree(src_path, dst_path, dirs_exist_ok=True)\n",
    "    else:\n",
    "        # Copy các file (ví dụ .json)\n",
    "        shutil.copy2(src_path, dst_path)\n",
    "\n",
    "print(f\"Đã copy xong từ\\n  {SOURCE_DIR}\\n→ {DEST_DIR}\")\n"
   ]
  }
 ],
 "metadata": {
  "kernelspec": {
   "display_name": "minhtq",
   "language": "python",
   "name": "python3"
  },
  "language_info": {
   "name": "python",
   "version": "3.10.16"
  }
 },
 "nbformat": 4,
 "nbformat_minor": 2
}
